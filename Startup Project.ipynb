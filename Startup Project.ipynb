{
 "cells": [
  {
   "cell_type": "markdown",
   "id": "ce34f993-56b6-49bf-9336-5c7799ebe1a0",
   "metadata": {},
   "source": [
    "# Case 1: Find a location"
   ]
  },
  {
   "cell_type": "code",
   "execution_count": 52,
   "id": "3855e3b3-4618-4ad0-9424-9820c9cfd510",
   "metadata": {},
   "outputs": [
    {
     "name": "stdout",
     "output_type": "stream",
     "text": [
      "Below are the proposed cities for startup foundations with corresponding funding received in each city.\n",
      "Bangalore 637\n",
      "Mumbai 449\n",
      "New Delhi 389\n",
      "Gurgaon 241\n",
      "Noida 79\n",
      "\n",
      "Bangalore is the most preferred location for startup as it has received 637 number of fundings.\n"
     ]
    },
    {
     "data": {
      "image/png": "[encoded data removed]",
      "text/plain": [
       "<Figure size 640x480 with 1 Axes>"
      ]
     },
     "metadata": {},
     "output_type": "display_data"
    }
   ],
   "source": [
    "# Open and read data file as specified in the question\n",
    "# Print the required output in given format\n",
    "\n",
    "# import the library\n",
    "import pandas as pd\n",
    "import matplotlib.pyplot as plt \n",
    "\n",
    "# load the csv file and drop the nan entries\n",
    "data = pd.read_csv(\"startup_funding.csv\", encoding = \"utf8\")\n",
    "df = data.copy()\n",
    "df.dropna(subset = [\"CityLocation\"], inplace = True)\n",
    "\n",
    "# Modiify the city names as specified in the problem statement.\n",
    "df[\"CityLocation\"].replace(\"bangalore\", \"Bangalore\", inplace = True)\n",
    "df[\"CityLocation\"].replace(\"Delhi\", \"New Delhi\", inplace = True)\n",
    "\n",
    "# Desired location for startup based on problem statement.\n",
    "possible_locations = [\"Bangalore\", \"New Delhi\", \"Mumbai\", \"Noida\", \"Gurgaon\"]\n",
    "\n",
    "# To store the city name and corresponding frequency of fundings\n",
    "di = {}\n",
    "\n",
    "# Defined the function to split the multiple locations and filter out the indian city\n",
    "def city_sep(location):\n",
    "    location = str(location).strip() \n",
    "    li = location.split(\"/\")\n",
    "    for i in li:\n",
    "        i = i.strip()\n",
    "        if i in possible_locations:\n",
    "            di[i] = di.get(i, 0) + 1\n",
    "    return\n",
    "\n",
    "# applied the function on CityLocation column in database\n",
    "df.CityLocation.apply(city_sep)\n",
    "\n",
    "# To store the cities and no_of_fundings it received for bar graph purpose\n",
    "cities = []\n",
    "no_of_funding = []\n",
    "\n",
    "# Printed the city name and corresponding count of funding it received.\n",
    "print(\"Below are the proposed cities for startup foundations with corresponding funding received in each city.\")\n",
    "for key, value in di.items():\n",
    "    cities.append(key)\n",
    "    no_of_funding.append(value)\n",
    "    print(key, int(value))\n",
    "\n",
    "# Result statement to decide where to establish the startup.\n",
    "print()\n",
    "print(f'{cities[0]} is the most preferred location for startup as it has received {no_of_funding[0]} number of fundings.')\n",
    "\n",
    "# To plot the bar graph of city vs number of funding it has received.\n",
    "plt.bar(cities, no_of_funding,)\n",
    "plt.xlabel(\"Location\")\n",
    "plt.ylabel(\"Number of Fundings\")\n",
    "plt.title(\"Cities vs Number of Fundings\")\n",
    "plt.show()"
   ]
  },
  {
   "cell_type": "markdown",
   "id": "2f488fa1-6cc5-4e52-86ef-0b7417167855",
   "metadata": {},
   "source": [
    "# Case 2 : Find top 5 Investors"
   ]
  },
  {
   "cell_type": "code",
   "execution_count": 1,
   "id": "68056507-cc73-4681-9d16-15d7b4513cce",
   "metadata": {},
   "outputs": [
    {
     "name": "stdout",
     "output_type": "stream",
     "text": [
      "Below are the top five investor names:\n",
      "Sequoia Capital 64\n",
      "Accel Partners 53\n",
      "Kalaari Capital 44\n",
      "SAIF Partners 41\n",
      "Indian Angel Network 40\n"
     ]
    }
   ],
   "source": [
    "# import the libraries\n",
    "import pandas as pd\n",
    "\n",
    "# load csv and delete NaN entries\n",
    "data = pd.read_csv(\"startup_funding.csv\", encoding = \"utf8\")\n",
    "df = data.copy()\n",
    "df.dropna(subset = [\"InvestorsName\"], inplace = True)\n",
    "\n",
    "# To store and seperate multiple investors in a list.\n",
    "li = []\n",
    "for i in df.InvestorsName:\n",
    "    i = str(i).strip()\n",
    "    if i == \"\" or i == \"Undisclosed Investors\" or i == \"undisclosed investors\" or i == \"Undisclosed investors\":\n",
    "         continue\n",
    "    else:\n",
    "        if \",\" in i:\n",
    "            splitted = i.split(\",\")\n",
    "            for j in splitted:\n",
    "                j = j.strip()\n",
    "                li.append(j)\n",
    "        else:\n",
    "            li.append(i.strip())\n",
    "\n",
    "# To store the name of the investor and count his/her corresponding frequency of investment\n",
    "di = {}\n",
    "for i in li:\n",
    "    di[i] = di.get(i, 0) + 1\n",
    "\n",
    "# To sort the dictionary in descending order by values\n",
    "descending_order_di = dict(sorted(di.items(), key = lambda item : item[1], reverse = True))\n",
    "\n",
    "# To seperate investors and each investor's funding count in a seperate list.\n",
    "investors = []\n",
    "no_of_investments = []\n",
    "\n",
    "for key, value in descending_order_di.items():\n",
    "    investors.append(key)\n",
    "    no_of_investments.append(value)\n",
    "\n",
    "# print the top five investors\n",
    "print(\"Below are the top five investor names:\")\n",
    "for i in range(5):\n",
    "    print(investors[i], no_of_investments[i])"
   ]
  },
  {
   "cell_type": "markdown",
   "id": "9a5c4af8-c83e-4083-b219-eac21a51e09a",
   "metadata": {},
   "source": [
    "# Case 3 : Top 5 Investors in different startups"
   ]
  },
  {
   "cell_type": "code",
   "execution_count": 2,
   "id": "b916905a-5224-4c16-84fd-e5dee975f1f3",
   "metadata": {},
   "outputs": [
    {
     "name": "stdout",
     "output_type": "stream",
     "text": [
      "Top 5 Investors are as below:\n",
      "Sequoia Capital 48\n",
      "Accel Partners 47\n",
      "Kalaari Capital 41\n",
      "Indian Angel Network 40\n",
      "Blume Ventures 36\n"
     ]
    }
   ],
   "source": [
    "# Imported the libraries\n",
    "import pandas as pd\n",
    "import numpy as np\n",
    "\n",
    "# Loaded the csv data and dropped the nan entries\n",
    "data = pd.read_csv('startup_funding.csv', encoding='utf-8')\n",
    "df = data.copy()\n",
    "df.dropna(subset=['InvestorsName', 'StartupName'], inplace = True)\n",
    "\n",
    "# Corrected the startup name errors and applied changes in the dataframe\n",
    "df['StartupName'].replace('Flipkart.com','Flipkart',inplace=True)\n",
    "df['StartupName'].replace('Ola Cabs','Ola',inplace=True)\n",
    "df['StartupName'].replace('Olacabs','Ola',inplace=True)\n",
    "df['StartupName'].replace('Ola Cabs','Ola',inplace=True)\n",
    "df['StartupName'].replace('Olacabs','Ola',inplace=True)\n",
    "df['StartupName'].replace('Oyo Rooms','Oyo',inplace=True)\n",
    "df['StartupName'].replace('Oyorooms','Oyo',inplace=True)\n",
    "df['StartupName'].replace('OyoRooms','Oyo',inplace=True)\n",
    "df['StartupName'].replace('OYO Rooms','Oyo',inplace=True)\n",
    "df['StartupName'].replace('Paytm Marketplace','Paytm',inplace=True)\n",
    "df['InvestorsName'].replace('Undisclosed investors','Undisclosed Investors',inplace=True)\n",
    "\n",
    "\n",
    "# Created the lists to store each startup name and coresponding investor's names\n",
    "startups = list(df.StartupName)\n",
    "investor_list = list(df.InvestorsName)\n",
    "\n",
    "# counted the number of times investor has invested in different startups and stored as key value pair format in dictionary\n",
    "di = {}\n",
    "for i in range(len(investor_list)):\n",
    "    for each_investor in investor_list[i].split(','):\n",
    "        each_investor = each_investor.strip()\n",
    "        if each_investor:\n",
    "            di.setdefault(each_investor, set()).add(startups[i])\n",
    "\n",
    "# To get the top five investors\n",
    "np_investor_name = np.array(list(di.keys()))\n",
    "np_number_of_fundings = np.array([len(di[key]) for key in di])\n",
    "top_indices = np_number_of_fundings.argsort()[::-1][:5]\n",
    "np_investor_name = np_investor_name[top_indices]\n",
    "np_number_of_fundings = np_number_of_fundings[top_indices]\n",
    "\n",
    "# Printed the top 5 investors\n",
    "print('Top 5 Investors are as below:')\n",
    "for i in range(5):\n",
    "    print(np_investor_name[i], np_number_of_fundings[i])"
   ]
  },
  {
   "cell_type": "markdown",
   "id": "4f987cda-eb06-49e0-8fa1-40df8f8160d5",
   "metadata": {},
   "source": [
    "# Case 4 : Top 5 Investors with Seed Funding and Crowd Funding"
   ]
  },
  {
   "cell_type": "code",
   "execution_count": 3,
   "id": "ae881904-e2cd-42e7-a20b-6f3613fdcef5",
   "metadata": {},
   "outputs": [
    {
     "name": "stdout",
     "output_type": "stream",
     "text": [
      "Top 5 Investors with investment as Seed Funding and Crowd Funding are:\n",
      "Indian Angel Network 33\n",
      "Rajan Anandan 23\n",
      "LetsVenture 16\n",
      "Anupam Mittal 16\n",
      "Kunal Shah 14\n"
     ]
    }
   ],
   "source": [
    "# Imported the libraries\n",
    "import pandas as pd\n",
    "import numpy as np\n",
    "\n",
    "# Loaded the csv data and dropped the nan values\n",
    "data = pd.read_csv('startup_funding.csv', encoding='utf-8')\n",
    "df = data.copy()\n",
    "df.dropna(subset=['InvestorsName', 'StartupName', 'InvestmentType'])\n",
    "\n",
    "# Corrected the startup name errors and applied changes in the dataframe\n",
    "df['StartupName'].replace('Flipkart.com','Flipkart',inplace=True)\n",
    "df['StartupName'].replace('Ola Cabs','Ola',inplace=True)\n",
    "df['StartupName'].replace('Olacabs','Ola',inplace=True)\n",
    "df['StartupName'].replace('Ola Cabs','Ola',inplace=True)\n",
    "df['StartupName'].replace('Olacabs','Ola',inplace=True)\n",
    "df['StartupName'].replace('Oyo Rooms','Oyo',inplace=True)\n",
    "df['StartupName'].replace('Oyorooms','Oyo',inplace=True)\n",
    "df['StartupName'].replace('OyoRooms','Oyo',inplace=True)\n",
    "df['StartupName'].replace('OYO Rooms','Oyo',inplace=True)\n",
    "df['StartupName'].replace('Paytm Marketplace','Paytm',inplace=True)\n",
    "\n",
    "# checked unique type and modify the name and \n",
    "df['InvestorsName'].replace('Undisclosed investors','Undisclosed Investors',inplace=True)\n",
    "df[\"InvestmentType\"].replace(\"PrivateEquity\", \"Private Equity\", inplace = True)\n",
    "df[\"InvestmentType\"].replace(\"SeedFunding\", \"Seed Funding\", inplace = True)\n",
    "df[\"InvestmentType\"].replace(\"Crowd funding\", \"Crowd Funding\", inplace = True)\n",
    "\n",
    "# Filtered the entries with the seed funfing and crowd funding\n",
    "df = df[(df['InvestmentType'] == 'Seed Funding') | (df['InvestmentType'] == 'Crowd Funding')]\n",
    "\n",
    "# created the lists and stored the startup names and investors\n",
    "startup = list(df['StartupName'])\n",
    "investor_list = list(df['InvestorsName'])\n",
    "\n",
    "# Count number of fundings per investor in different startup that means neglect the duplicate counts\n",
    "d = {}\n",
    "for i in range(len(investor_list)):\n",
    "    for invest in str(investor_list[i]).split(','):\n",
    "        invest = invest.strip()\n",
    "        if invest and invest != \"Undisclosed Investors\":\n",
    "            d.setdefault(invest, set()).add(startup[i])\n",
    "\n",
    "# Found the top five investors with seed and crowd funding\n",
    "investor_name = np.array(list(d.keys()))\n",
    "number_of_fundings = np.array([len(d[key]) for key in d])\n",
    "top_indices = number_of_fundings.argsort()[::-1][:5]\n",
    "investor_name = investor_name[top_indices]\n",
    "number_of_fundings = number_of_fundings[top_indices]\n",
    "\n",
    "# printed top 5 investors\n",
    "print('Top 5 Investors with investment as Seed Funding and Crowd Funding are:')\n",
    "for i in range(5):\n",
    "    print(investor_name[i], number_of_fundings[i])\n"
   ]
  },
  {
   "cell_type": "markdown",
   "id": "c9b2fe41-0f8a-471c-976a-f509383f2438",
   "metadata": {},
   "source": [
    "# Case 5 : Top 5 Investors with Private Equity"
   ]
  },
  {
   "cell_type": "code",
   "execution_count": 4,
   "id": "a0ea6f24-04b9-4ae8-a040-3759626e77d7",
   "metadata": {},
   "outputs": [
    {
     "name": "stdout",
     "output_type": "stream",
     "text": [
      "Top 5 Investors for Private Equity:\n",
      "Sequoia Capital 45\n",
      "Accel Partners 43\n",
      "Kalaari Capital 35\n",
      "Blume Ventures 27\n",
      "SAIF Partners 24\n"
     ]
    }
   ],
   "source": [
    "# Imported the libraries\n",
    "import pandas as pd\n",
    "import numpy as np\n",
    "\n",
    "# Loaded the csv data and dropped the nan values\n",
    "data = pd.read_csv('startup_funding.csv', encoding='utf-8')\n",
    "df = data.copy()\n",
    "df.dropna(subset=['InvestorsName', 'StartupName', 'InvestmentType'])\n",
    "\n",
    "# Corrected the startup name errors and applied changes in the dataframe\n",
    "df['StartupName'].replace('Flipkart.com','Flipkart',inplace=True)\n",
    "df['StartupName'].replace('Ola Cabs','Ola',inplace=True)\n",
    "df['StartupName'].replace('Olacabs','Ola',inplace=True)\n",
    "df['StartupName'].replace('Ola Cabs','Ola',inplace=True)\n",
    "df['StartupName'].replace('Olacabs','Ola',inplace=True)\n",
    "df['StartupName'].replace('Oyo Rooms','Oyo',inplace=True)\n",
    "df['StartupName'].replace('Oyorooms','Oyo',inplace=True)\n",
    "df['StartupName'].replace('OyoRooms','Oyo',inplace=True)\n",
    "df['StartupName'].replace('OYO Rooms','Oyo',inplace=True)\n",
    "df['StartupName'].replace('Paytm Marketplace','Paytm',inplace=True)\n",
    "\n",
    "# checked unique type and modify the name and \n",
    "df['InvestorsName'].replace('Undisclosed investors','Undisclosed Investors',inplace=True)\n",
    "df[\"InvestmentType\"].replace(\"PrivateEquity\", \"Private Equity\", inplace = True)\n",
    "df[\"InvestmentType\"].replace(\"SeedFunding\", \"Seed Funding\", inplace = True)\n",
    "df[\"InvestmentType\"].replace(\"Crowd funding\", \"Crowd Funding\", inplace = True)\n",
    "\n",
    "# Filtered the entries with private equity\n",
    "df = df[(df['InvestmentType'] == 'Private Equity')]\n",
    "\n",
    "# created the lists and stored the startup names and investors\n",
    "startup = list(df['StartupName'])\n",
    "investor_list = list(df['InvestorsName'])\n",
    "\n",
    "# Count number of fundings per investor in different startup that means neglect the duplicate counts\n",
    "d = {}\n",
    "for i in range(len(investor_list)):\n",
    "    for invest in str(investor_list[i]).split(','):\n",
    "        invest = invest.strip()\n",
    "        if invest and invest != \"Undisclosed Investors\":\n",
    "            d.setdefault(invest, set()).add(startup[i])\n",
    "\n",
    "# Found the top five investors with seed and crowd funding\n",
    "investor_name = np.array(list(d.keys()))\n",
    "number_of_fundings = np.array([len(d[key]) for key in d])\n",
    "top_indices = number_of_fundings.argsort()[::-1][:5]\n",
    "investor_name = investor_name[top_indices]\n",
    "number_of_fundings = number_of_fundings[top_indices]\n",
    "\n",
    "# printed top 5 investors\n",
    "print('Top 5 Investors for Private Equity:')\n",
    "for i in range(5):\n",
    "    print(investor_name[i], number_of_fundings[i])"
   ]
  }
 ],
 "metadata": {
  "kernelspec": {
   "display_name": "Python 3 (ipykernel)",
   "language": "python",
   "name": "python3"
  },
  "language_info": {
   "codemirror_mode": {
    "name": "ipython",
    "version": 3
   },
   "file_extension": ".py",
   "mimetype": "text/x-python",
   "name": "python",
   "nbconvert_exporter": "python",
   "pygments_lexer": "ipython3",
   "version": "3.11.7"
  }
 },
 "nbformat": 4,
 "nbformat_minor": 5
}
